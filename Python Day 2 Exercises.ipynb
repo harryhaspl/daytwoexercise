{
 "cells": [
  {
   "cell_type": "markdown",
   "metadata": {},
   "source": [
    "Ask for a color and store that answer\n",
    "If the answer is grey then print out you found Victor's favorite color.\n",
    "Otherwise print out the color is not Victor's favorite color."
   ]
  },
  {
   "cell_type": "code",
   "execution_count": 3,
   "metadata": {},
   "outputs": [
    {
     "name": "stdout",
     "output_type": "stream",
     "text": [
      "tell me a color:yellow\n",
      "yellow is not Victor's favorite color.\n"
     ]
    }
   ],
   "source": [
    "color = input(\"tell me a color:\")\n",
    "if color == \"grey\":\n",
    "    print(\"you found Victor's favorite color.\")\n",
    "else:\n",
    "    print(f\"{color} is not Victor's favorite color.\")"
   ]
  },
  {
   "cell_type": "markdown",
   "metadata": {},
   "source": [
    "Now with the code before add in more conditions for other colors such as red, green, blue and write statements for them. "
   ]
  },
  {
   "cell_type": "code",
   "execution_count": 7,
   "metadata": {},
   "outputs": [
    {
     "name": "stdout",
     "output_type": "stream",
     "text": [
      "tell me a color:orange\n",
      "orange is not Victor's favorite color.\n"
     ]
    }
   ],
   "source": [
    "color = input(\"tell me a color:\")\n",
    "if color == \"grey\":\n",
    "    print(\"you found Victor's favorite color.\")\n",
    "elif color == \"red\":\n",
    "    print(\"that's not Victor's favorite color, but it's Susan's favorite color\")\n",
    "elif color == \"green\":\n",
    "    print(\"you're almost there!\")\n",
    "elif color == \"blue\":\n",
    "    print(f\"the sky is {color}, but Victor's favorite color is not\")\n",
    "else:\n",
    "    print(f\"{color} is not Victor's favorite color.\")"
   ]
  },
  {
   "cell_type": "markdown",
   "metadata": {},
   "source": [
    "Ask for an exam score and store that number\n",
    "If the number is greater than 100\n",
    "print out you cannot have an exam score higher than 100.\n",
    "if the number doesn't exceeed 100 but is greater than 75\n",
    "print out you did great on your exam!\n",
    "otherwise if they scored lower than 75\n",
    "print out that they need to study harder."
   ]
  },
  {
   "cell_type": "code",
   "execution_count": 13,
   "metadata": {},
   "outputs": [
    {
     "name": "stdout",
     "output_type": "stream",
     "text": [
      "what's your score?0\n",
      "you need to study harder\n"
     ]
    }
   ],
   "source": [
    "score = int(input(\"what's your score?\"))\n",
    "if score > 100:\n",
    "    print(\"you cannot have an exam score higher than 100.\")\n",
    "elif score >= 75:\n",
    "    print(\"you did great on your exam\")\n",
    "else:\n",
    "    print(\"you need to study harder\")"
   ]
  },
  {
   "cell_type": "markdown",
   "metadata": {},
   "source": [
    "Define a function that takes in 3 numbers and adds them together\n",
    "Define a function that takes in 2 numbers and multiplies them\n",
    "Tell the user to choose option 1 to add three numbers or to choose option 2 to mutiply two numbers.\n",
    "If they choose 1 then use the first function otherwise if they choose 2 then use the second function. "
   ]
  },
  {
   "cell_type": "code",
   "execution_count": 21,
   "metadata": {},
   "outputs": [
    {
     "name": "stdout",
     "output_type": "stream",
     "text": [
      "do you want to add three numbers (choose 1), or multiply 2 numbers (choose 2)?\n",
      "[1/2]2\n",
      "you chose to multiply 2 numbers. Please enter 2 numbers:\n",
      "number 1:40\n",
      "number 2:10\n",
      "the multiplication of the numbers is: 400\n"
     ]
    }
   ],
   "source": [
    "def add_three(var1, var2, var3):\n",
    "    total = var1 + var2 + var3\n",
    "    return total\n",
    "\n",
    "def mul_two(var1, var2):\n",
    "    total = var1 * var2\n",
    "    return total\n",
    "    \n",
    "print(\"do you want to add three numbers (choose 1), or multiply 2 numbers (choose 2)?\")\n",
    "choice = int(input(\"[1/2]\"))\n",
    "if choice == 1:\n",
    "    print(\"you chose to add 3 numbers. Please enter 3 numbers:\")\n",
    "    a = int(input(\"number 1:\"))\n",
    "    b = int(input(\"number 2:\"))\n",
    "    c = int(input(\"number 3:\"))\n",
    "    print(\"the sum of the numbers is:\", add_three(a, b, c))\n",
    "elif choice == 2:\n",
    "    print(\"you chose to multiply 2 numbers. Please enter 2 numbers:\")\n",
    "    a = int(input(\"number 1:\"))\n",
    "    b = int(input(\"number 2:\"))\n",
    "    print(\"the multiplication of the numbers is:\", mul_two(a,b))\n",
    "else:\n",
    "    print(\"please enter 1 or 2!\")"
   ]
  },
  {
   "cell_type": "markdown",
   "metadata": {},
   "source": [
    "Make a loop go from 50 to 100 and print every iteration"
   ]
  },
  {
   "cell_type": "code",
   "execution_count": 28,
   "metadata": {},
   "outputs": [
    {
     "name": "stdout",
     "output_type": "stream",
     "text": [
      "50 51 52 53 54 55 56 57 58 59 60 61 62 63 64 65 66 67 68 69 70 71 72 73 74 75 76 77 78 79 80 81 82 83 84 85 86 87 88 89 90 91 92 93 94 95 96 97 98 99 100 "
     ]
    }
   ],
   "source": [
    "count = 50\n",
    "while count <=100:\n",
    "    print(count , end= \" \")\n",
    "    count += 1"
   ]
  },
  {
   "cell_type": "markdown",
   "metadata": {},
   "source": [
    "Make an empty list and call it names"
   ]
  },
  {
   "cell_type": "code",
   "execution_count": 23,
   "metadata": {},
   "outputs": [],
   "source": [
    "names = []"
   ]
  },
  {
   "cell_type": "markdown",
   "metadata": {},
   "source": [
    "Make names filled with names of 5 people (Hannah, Victor, Sam, James, John)"
   ]
  },
  {
   "cell_type": "code",
   "execution_count": 24,
   "metadata": {},
   "outputs": [],
   "source": [
    "names.append(\"Hannah\")\n",
    "names.append(\"Victor\")\n",
    "names.append(\"Sam\")\n",
    "names.append(\"James\")\n",
    "names.append(\"John\")"
   ]
  },
  {
   "cell_type": "markdown",
   "metadata": {},
   "source": [
    "Make names sorted in reverse. Print out the list using a for-enchanced loop"
   ]
  },
  {
   "cell_type": "code",
   "execution_count": 26,
   "metadata": {},
   "outputs": [
    {
     "name": "stdout",
     "output_type": "stream",
     "text": [
      "Victor\n",
      "Sam\n",
      "John\n",
      "James\n",
      "Hannah\n"
     ]
    }
   ],
   "source": [
    "names.sort(reverse = True)\n",
    "for n in names:\n",
    "    print(n)"
   ]
  },
  {
   "cell_type": "markdown",
   "metadata": {},
   "source": [
    "Make names sorted alphabetically. Print out the list using regular for loop"
   ]
  },
  {
   "cell_type": "code",
   "execution_count": 39,
   "metadata": {},
   "outputs": [
    {
     "name": "stdout",
     "output_type": "stream",
     "text": [
      "Hannah\n",
      "James\n",
      "John\n",
      "Sam\n",
      "Victor\n"
     ]
    }
   ],
   "source": [
    "names.sort()\n",
    "for n in range(0, len(names)):\n",
    "    print(names[n])"
   ]
  },
  {
   "cell_type": "markdown",
   "metadata": {},
   "source": [
    "Pull out the fourth item from names and print it out"
   ]
  },
  {
   "cell_type": "code",
   "execution_count": 29,
   "metadata": {},
   "outputs": [
    {
     "name": "stdout",
     "output_type": "stream",
     "text": [
      "Sam\n"
     ]
    }
   ],
   "source": [
    "print(names[3])"
   ]
  },
  {
   "cell_type": "markdown",
   "metadata": {},
   "source": [
    "Pull out the first item from names and print it out"
   ]
  },
  {
   "cell_type": "code",
   "execution_count": 30,
   "metadata": {},
   "outputs": [
    {
     "name": "stdout",
     "output_type": "stream",
     "text": [
      "Hannah\n"
     ]
    }
   ],
   "source": [
    "print(names[0])"
   ]
  },
  {
   "cell_type": "markdown",
   "metadata": {},
   "source": [
    "Make an empty list called words and add each word into the list using the append function. The words are (Hello, Python,Class, Friends, Online, Jupyter).\n",
    "Print out the list using a for-enchanced loop"
   ]
  },
  {
   "cell_type": "code",
   "execution_count": 31,
   "metadata": {},
   "outputs": [
    {
     "name": "stdout",
     "output_type": "stream",
     "text": [
      "['Hello', 'Python', 'Class', 'Friends', 'Online', 'Jupyter']\n"
     ]
    }
   ],
   "source": [
    "words = []\n",
    "words.append(\"Hello\")\n",
    "words.append(\"Python\")\n",
    "words.append(\"Class\")\n",
    "words.append(\"Friends\")\n",
    "words.append(\"Online\")\n",
    "words.append(\"Jupyter\")\n",
    "\n",
    "print(words)"
   ]
  },
  {
   "cell_type": "markdown",
   "metadata": {},
   "source": [
    "Make words lose it's last word and print out the new list."
   ]
  },
  {
   "cell_type": "code",
   "execution_count": 32,
   "metadata": {},
   "outputs": [
    {
     "name": "stdout",
     "output_type": "stream",
     "text": [
      "['Hello', 'Python', 'Class', 'Friends', 'Online']\n"
     ]
    }
   ],
   "source": [
    "words.pop()\n",
    "print(words)"
   ]
  },
  {
   "cell_type": "markdown",
   "metadata": {},
   "source": [
    "Make a variable named fruits that contains a string \"Apples Oranges Bananas Pineapples Persimmons Dragonfruit\" and make it into a list splitting it by the spaces."
   ]
  },
  {
   "cell_type": "code",
   "execution_count": 36,
   "metadata": {},
   "outputs": [
    {
     "name": "stdout",
     "output_type": "stream",
     "text": [
      "Apples Oranges Bananas Pineapples Persimmons Dragonfruit\n",
      "['Apples', 'Oranges', 'Bananas', 'Pineapples', 'Persimmons', 'Dragonfruit']\n"
     ]
    }
   ],
   "source": [
    "fruits = \"Apples Oranges Bananas Pineapples Persimmons Dragonfruit\"\n",
    "print(fruits)\n",
    "fruits = fruits.split()\n",
    "print(fruits)"
   ]
  },
  {
   "cell_type": "markdown",
   "metadata": {},
   "source": [
    "Make a variable named fruits that contains a string \"Apples,Oranges,Bananas,Pineapples,Persimmons,Dragonfruit\" and make it into a list splitting it by the commas."
   ]
  },
  {
   "cell_type": "code",
   "execution_count": 38,
   "metadata": {},
   "outputs": [
    {
     "name": "stdout",
     "output_type": "stream",
     "text": [
      "Apples,Oranges,Bananas,Pineapples,Persimmons,Dragonfruit\n",
      "['Apples', 'Oranges', 'Bananas', 'Pineapples', 'Persimmons', 'Dragonfruit']\n"
     ]
    }
   ],
   "source": [
    "fruits = \"Apples,Oranges,Bananas,Pineapples,Persimmons,Dragonfruit\"\n",
    "print(fruits)\n",
    "fruits = fruits.split(\",\")\n",
    "print(fruits)"
   ]
  }
 ],
 "metadata": {
  "kernelspec": {
   "display_name": "Python 3",
   "language": "python",
   "name": "python3"
  },
  "language_info": {
   "codemirror_mode": {
    "name": "ipython",
    "version": 3
   },
   "file_extension": ".py",
   "mimetype": "text/x-python",
   "name": "python",
   "nbconvert_exporter": "python",
   "pygments_lexer": "ipython3",
   "version": "3.7.6"
  }
 },
 "nbformat": 4,
 "nbformat_minor": 4
}
